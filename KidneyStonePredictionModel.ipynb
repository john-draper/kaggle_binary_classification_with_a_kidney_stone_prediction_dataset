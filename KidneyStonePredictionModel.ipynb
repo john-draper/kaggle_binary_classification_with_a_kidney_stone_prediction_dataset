{
 "cells": [
  {
   "cell_type": "markdown",
   "id": "578e3cf2",
   "metadata": {},
   "source": [
    "## Introduction\n",
    "\n",
    "Kaggle competition Season 3 Episode 12.  Binary classification with a kidney stone prediction dataset\n",
    "\n",
    "This a humble kaggle competition entry project to practice ML/Data Science skills.  While unpolished and unfinished, it should act as demonstrable evidence of these skills. This is an ongoing competition at the time of writing and all work represents my actual proficiency.  Anything copied will be noted and referenced."
   ]
  },
  {
   "cell_type": "code",
   "execution_count": 9,
   "id": "55d8793c",
   "metadata": {},
   "outputs": [],
   "source": [
    "import pandas as pd\n",
    "import numpy as np\n",
    "import seaborn as sns\n",
    "import matplotlib.pyplot as plt\n",
    "import plotly.express as px\n",
    "import os\n",
    "from sklearn.metrics import mean_absolute_error\n",
    "from sklearn.model_selection import train_test_split\n",
    "from sklearn.tree import DecisionTreeRegressor\n",
    "from sklearn.ensemble import RandomForestRegressor\n",
    "from sklearn.metrics import mean_absolute_error"
   ]
  },
  {
   "cell_type": "markdown",
   "id": "4a4c30e4",
   "metadata": {},
   "source": [
    "## Data Preparation"
   ]
  },
  {
   "cell_type": "code",
   "execution_count": 10,
   "id": "5a668d2d",
   "metadata": {},
   "outputs": [],
   "source": [
    "# done in an os independent way on the principle of best practice\n",
    "# construct the file paths using os.path.join\n",
    "train_path = os.path.join(\"input\", \"train.csv\")\n",
    "test_path = os.path.join(\"input\", \"test.csv\")\n",
    "sample_submission_path = os.path.join(\"input\", \"sample_submission.csv\")\n",
    "\n",
    "# load the CSV data using pandas\n",
    "train_data = pd.read_csv(train_path)\n",
    "test_data = pd.read_csv(test_path)\n",
    "sample_submission_data = pd.read_csv(sample_submission_path)"
   ]
  },
  {
   "cell_type": "markdown",
   "id": "95fa6f75",
   "metadata": {},
   "source": [
    "## Exploratory Data Analysis\n",
    "\n"
   ]
  },
  {
   "cell_type": "code",
   "execution_count": 18,
   "id": "ea698a35",
   "metadata": {},
   "outputs": [
    {
     "data": {
      "text/html": [
       "<div>\n",
       "<style scoped>\n",
       "    .dataframe tbody tr th:only-of-type {\n",
       "        vertical-align: middle;\n",
       "    }\n",
       "\n",
       "    .dataframe tbody tr th {\n",
       "        vertical-align: top;\n",
       "    }\n",
       "\n",
       "    .dataframe thead th {\n",
       "        text-align: right;\n",
       "    }\n",
       "</style>\n",
       "<table border=\"1\" class=\"dataframe\">\n",
       "  <thead>\n",
       "    <tr style=\"text-align: right;\">\n",
       "      <th></th>\n",
       "      <th>id</th>\n",
       "      <th>gravity</th>\n",
       "      <th>ph</th>\n",
       "      <th>osmo</th>\n",
       "      <th>cond</th>\n",
       "      <th>urea</th>\n",
       "      <th>calc</th>\n",
       "      <th>target</th>\n",
       "    </tr>\n",
       "  </thead>\n",
       "  <tbody>\n",
       "    <tr>\n",
       "      <th>0</th>\n",
       "      <td>0</td>\n",
       "      <td>1.013</td>\n",
       "      <td>6.19</td>\n",
       "      <td>443</td>\n",
       "      <td>14.8</td>\n",
       "      <td>124</td>\n",
       "      <td>1.45</td>\n",
       "      <td>0</td>\n",
       "    </tr>\n",
       "    <tr>\n",
       "      <th>1</th>\n",
       "      <td>1</td>\n",
       "      <td>1.025</td>\n",
       "      <td>5.40</td>\n",
       "      <td>703</td>\n",
       "      <td>23.6</td>\n",
       "      <td>394</td>\n",
       "      <td>4.18</td>\n",
       "      <td>0</td>\n",
       "    </tr>\n",
       "    <tr>\n",
       "      <th>2</th>\n",
       "      <td>2</td>\n",
       "      <td>1.009</td>\n",
       "      <td>6.13</td>\n",
       "      <td>371</td>\n",
       "      <td>24.5</td>\n",
       "      <td>159</td>\n",
       "      <td>9.04</td>\n",
       "      <td>0</td>\n",
       "    </tr>\n",
       "    <tr>\n",
       "      <th>3</th>\n",
       "      <td>3</td>\n",
       "      <td>1.021</td>\n",
       "      <td>4.91</td>\n",
       "      <td>442</td>\n",
       "      <td>20.8</td>\n",
       "      <td>398</td>\n",
       "      <td>6.63</td>\n",
       "      <td>1</td>\n",
       "    </tr>\n",
       "    <tr>\n",
       "      <th>4</th>\n",
       "      <td>4</td>\n",
       "      <td>1.021</td>\n",
       "      <td>5.53</td>\n",
       "      <td>874</td>\n",
       "      <td>17.8</td>\n",
       "      <td>385</td>\n",
       "      <td>2.21</td>\n",
       "      <td>1</td>\n",
       "    </tr>\n",
       "    <tr>\n",
       "      <th>...</th>\n",
       "      <td>...</td>\n",
       "      <td>...</td>\n",
       "      <td>...</td>\n",
       "      <td>...</td>\n",
       "      <td>...</td>\n",
       "      <td>...</td>\n",
       "      <td>...</td>\n",
       "      <td>...</td>\n",
       "    </tr>\n",
       "    <tr>\n",
       "      <th>409</th>\n",
       "      <td>409</td>\n",
       "      <td>1.011</td>\n",
       "      <td>5.21</td>\n",
       "      <td>527</td>\n",
       "      <td>21.4</td>\n",
       "      <td>75</td>\n",
       "      <td>1.53</td>\n",
       "      <td>0</td>\n",
       "    </tr>\n",
       "    <tr>\n",
       "      <th>410</th>\n",
       "      <td>410</td>\n",
       "      <td>1.024</td>\n",
       "      <td>5.53</td>\n",
       "      <td>577</td>\n",
       "      <td>19.7</td>\n",
       "      <td>224</td>\n",
       "      <td>0.77</td>\n",
       "      <td>0</td>\n",
       "    </tr>\n",
       "    <tr>\n",
       "      <th>411</th>\n",
       "      <td>411</td>\n",
       "      <td>1.018</td>\n",
       "      <td>6.28</td>\n",
       "      <td>455</td>\n",
       "      <td>22.2</td>\n",
       "      <td>270</td>\n",
       "      <td>7.68</td>\n",
       "      <td>1</td>\n",
       "    </tr>\n",
       "    <tr>\n",
       "      <th>412</th>\n",
       "      <td>412</td>\n",
       "      <td>1.008</td>\n",
       "      <td>7.12</td>\n",
       "      <td>325</td>\n",
       "      <td>12.6</td>\n",
       "      <td>75</td>\n",
       "      <td>1.03</td>\n",
       "      <td>1</td>\n",
       "    </tr>\n",
       "    <tr>\n",
       "      <th>413</th>\n",
       "      <td>413</td>\n",
       "      <td>1.011</td>\n",
       "      <td>6.13</td>\n",
       "      <td>364</td>\n",
       "      <td>9.9</td>\n",
       "      <td>159</td>\n",
       "      <td>0.27</td>\n",
       "      <td>0</td>\n",
       "    </tr>\n",
       "  </tbody>\n",
       "</table>\n",
       "<p>414 rows × 8 columns</p>\n",
       "</div>"
      ],
      "text/plain": [
       "      id  gravity    ph  osmo  cond  urea  calc  target\n",
       "0      0    1.013  6.19   443  14.8   124  1.45       0\n",
       "1      1    1.025  5.40   703  23.6   394  4.18       0\n",
       "2      2    1.009  6.13   371  24.5   159  9.04       0\n",
       "3      3    1.021  4.91   442  20.8   398  6.63       1\n",
       "4      4    1.021  5.53   874  17.8   385  2.21       1\n",
       "..   ...      ...   ...   ...   ...   ...   ...     ...\n",
       "409  409    1.011  5.21   527  21.4    75  1.53       0\n",
       "410  410    1.024  5.53   577  19.7   224  0.77       0\n",
       "411  411    1.018  6.28   455  22.2   270  7.68       1\n",
       "412  412    1.008  7.12   325  12.6    75  1.03       1\n",
       "413  413    1.011  6.13   364   9.9   159  0.27       0\n",
       "\n",
       "[414 rows x 8 columns]"
      ]
     },
     "execution_count": 18,
     "metadata": {},
     "output_type": "execute_result"
    }
   ],
   "source": [
    "train_data"
   ]
  },
  {
   "cell_type": "markdown",
   "id": "72a55b14",
   "metadata": {},
   "source": [
    "Gravity, osmo, cond, urea, and calc have a moderate positive correlation with the target variable, which means that higher levels of these variables may increase the risk of kidney stones.\n",
    "\n",
    "Ph has a weak negative correlation with the target variable, which means that higher levels of pH may reduce the risk of kidney stones.\n",
    "\n",
    "Gravity, osmo, urea, and calc have a strong positive correlation with each other, indicating that they may be measuring similar aspects of the same underlying phenomenon. Therefore, we may want to consider feature selection to avoid redundancy in our model.\n",
    "\n",
    "The correlation between other pairs of variables is weak or moderate, indicating that they may not be as strongly related to each other.\n",
    "\n",
    "\n",
    "I may use Principal Component Analysis to reduce dimensionality, possibly combining Gravity, osmolarity, urea, calcium."
   ]
  },
  {
   "cell_type": "code",
   "execution_count": 38,
   "id": "b8aa737e",
   "metadata": {},
   "outputs": [
    {
     "data": {
      "text/plain": [
       "5.887336956521739"
      ]
     },
     "execution_count": 38,
     "metadata": {},
     "output_type": "execute_result"
    }
   ],
   "source": []
  },
  {
   "cell_type": "code",
   "execution_count": 41,
   "id": "ba72f4d3",
   "metadata": {
    "scrolled": false
   },
   "outputs": [
    {
     "name": "stdout",
     "output_type": "stream",
     "text": [
      "               id     gravity          ph         osmo        cond  \\\n",
      "count  414.000000  414.000000  414.000000   414.000000  414.000000   \n",
      "mean   206.500000    1.017894    5.955459   651.545894   21.437923   \n",
      "std    119.655756    0.006675    0.642260   234.676567    7.514750   \n",
      "min      0.000000    1.005000    4.760000   187.000000    5.100000   \n",
      "25%    103.250000    1.012000    5.530000   455.250000   15.500000   \n",
      "50%    206.500000    1.018000    5.740000   679.500000   22.200000   \n",
      "75%    309.750000    1.022000    6.280000   840.000000   27.600000   \n",
      "max    413.000000    1.040000    7.940000  1236.000000   38.000000   \n",
      "\n",
      "             urea        calc      target  \n",
      "count  414.000000  414.000000  414.000000  \n",
      "mean   278.657005    4.114638    0.444444  \n",
      "std    136.442249    3.217641    0.497505  \n",
      "min     10.000000    0.170000    0.000000  \n",
      "25%    170.000000    1.450000    0.000000  \n",
      "50%    277.000000    3.130000    0.000000  \n",
      "75%    385.000000    6.630000    1.000000  \n",
      "max    620.000000   14.340000    1.000000  \n",
      "<class 'pandas.core.frame.DataFrame'>\n",
      "RangeIndex: 414 entries, 0 to 413\n",
      "Data columns (total 8 columns):\n",
      " #   Column   Non-Null Count  Dtype  \n",
      "---  ------   --------------  -----  \n",
      " 0   id       414 non-null    int64  \n",
      " 1   gravity  414 non-null    float64\n",
      " 2   ph       414 non-null    float64\n",
      " 3   osmo     414 non-null    int64  \n",
      " 4   cond     414 non-null    float64\n",
      " 5   urea     414 non-null    int64  \n",
      " 6   calc     414 non-null    float64\n",
      " 7   target   414 non-null    int64  \n",
      "dtypes: float64(4), int64(4)\n",
      "memory usage: 26.0 KB\n",
      "None\n"
     ]
    },
    {
     "data": {
      "text/plain": [
       "<Axes: >"
      ]
     },
     "execution_count": 41,
     "metadata": {},
     "output_type": "execute_result"
    },
    {
     "data": {
      "image/png": "[encoded data removed]",
      "text/plain": [
       "<Figure size 640x480 with 2 Axes>"
      ]
     },
     "metadata": {},
     "output_type": "display_data"
    }
   ],
   "source": [
    "# load the CSV data using pandas\n",
    "train_data = pd.read_csv(\"input/train.csv\")\n",
    "test_data = pd.read_csv(\"input/test.csv\")\n",
    "\n",
    "# check the basic statistics of the data\n",
    "print(train_data.describe())\n",
    "\n",
    "# check the data types and missing values\n",
    "print(train_data.info())\n",
    "\n",
    "# check the correlation between the variables\n",
    "corr = train_data.corr()\n",
    "sns.heatmap(corr, annot=True, cmap='coolwarm')\n",
    "\n",
    "# visualize the distribution of the target variable\n",
    "\n",
    "#sns.histplot(train_data['target'], kde=True) #Delete\n",
    "\n",
    "# visualize the relationship between variables using scatter plots\n",
    "#sns.scatterplot(x=train_data.target.values, y=train_data.ph.values, hue='target', data=train_data)#Delete\n",
    "\n",
    "# visualize the relationship between variables using interactive plots\n",
    "#fig = px.scatter(train_data, x='variable1', y='variable2', color='target')\n",
    "#fig.show()"
   ]
  },
  {
   "cell_type": "markdown",
   "id": "bd58211e",
   "metadata": {},
   "source": [
    "We can see that ph has a slight correlation with target."
   ]
  },
  {
   "cell_type": "code",
   "execution_count": 55,
   "id": "545d8e7b",
   "metadata": {},
   "outputs": [
    {
     "name": "stdout",
     "output_type": "stream",
     "text": [
      "average ph when kidney stone present 5.887\n",
      "ph when not present 6.01\n"
     ]
    }
   ],
   "source": [
    "print(\"average ph when kidney stone present\",round(np.mean(train_data.loc[train_data['target']==1,'ph']),3))\n",
    "print(\"ph when not present\",round(np.mean(train_data.loc[train_data['target']==0,'ph']),3))\n"
   ]
  },
  {
   "cell_type": "markdown",
   "id": "46c68428",
   "metadata": {},
   "source": [
    "Calcium followed by urea have the strongest positive correlation."
   ]
  },
  {
   "cell_type": "code",
   "execution_count": 57,
   "id": "fc3394db",
   "metadata": {},
   "outputs": [
    {
     "name": "stdout",
     "output_type": "stream",
     "text": [
      "average calcium level when kidney stone present 5.794\n",
      "calcium when not present 2.771\n"
     ]
    }
   ],
   "source": [
    "print(\"average calcium level when kidney stone present\",round(np.mean(train_data.loc[train_data['target']==1,'calc']),3))\n",
    "print(\"calcium when not present\",round(np.mean(train_data.loc[train_data['target']==0,'calc']),3))"
   ]
  },
  {
   "cell_type": "markdown",
   "id": "1bd8a582",
   "metadata": {},
   "source": [
    "## Feature Engineering\n",
    "Minimal or no \"feature engineering\" at this stage beyond simply setting the variables.\n",
    "\n",
    "After getting an intial respectible score of 0.84, it seems that due to the relatively small dataset (only 414 values), overfitting is happening and reducing it is the lowest hanging fruit to make a better prediction.  Reducing features from 6 down to the 2, Calc and Cond in an attempt to improve output produced a less predictive model scoring a worse 0.779.\n",
    "\n",
    "Round 3 tries a similar strategy with Cald and Urea with a result of a slight improvement over the intial model and a score of 0.8413\n",
    "\n",
    "\n",
    "\n"
   ]
  },
  {
   "cell_type": "code",
   "execution_count": 70,
   "id": "79544824",
   "metadata": {},
   "outputs": [],
   "source": [
    "#set variables\n",
    "#variables = ['gravity','ph','osmo','cond','urea','calc']\n",
    "variables = ['calc','urea']\n",
    "\n",
    "train_X = train_data[variables]\n",
    "train_y = train_data['target']\n",
    "val_X = test_data[variables]\n"
   ]
  },
  {
   "cell_type": "markdown",
   "id": "83f5da25",
   "metadata": {},
   "source": [
    "## Model Building\n",
    "Random forest model with minimal data engineering will give us a good baseline and may be the final submission for this conest.  It will give us a reference point to see if more sophisticated models with additional data engineering is actually improving our output or just giving us a more sophisticated but less predictive model. "
   ]
  },
  {
   "cell_type": "code",
   "execution_count": 71,
   "id": "ee3b25de",
   "metadata": {},
   "outputs": [],
   "source": [
    "forest_model = RandomForestRegressor(random_state=0)\n",
    "forest_model.fit(train_X,train_y)\n",
    "predictions = forest_model.predict(val_X)\n",
    "rounded_predictions = np.round(predictions, 3)\n",
    "\n",
    "output = pd.DataFrame({'id': test_data.id, 'target': rounded_predictions})\n",
    "\n",
    "#output to csv\n",
    "output.to_csv('output/output.csv', index=False)"
   ]
  },
  {
   "cell_type": "markdown",
   "id": "d665e186",
   "metadata": {},
   "source": [
    "## Model Evaluation\n",
    "We will save this step for later (if we get to it at all in this exercize).  We will first use an almost out of the box random forest regression model, then focus on data engineering, and only afterwards consider further model evaluation and tuning."
   ]
  },
  {
   "cell_type": "code",
   "execution_count": null,
   "id": "a257ea5a",
   "metadata": {},
   "outputs": [],
   "source": []
  },
  {
   "cell_type": "markdown",
   "id": "2a4910a7",
   "metadata": {},
   "source": [
    "## Conclusion"
   ]
  },
  {
   "cell_type": "code",
   "execution_count": null,
   "id": "e6a1ae56",
   "metadata": {},
   "outputs": [],
   "source": []
  },
  {
   "cell_type": "markdown",
   "id": "c28e368f",
   "metadata": {},
   "source": [
    "## References\n",
    "https://github.com/john-draper/kaggle_binary_classification_with_a_kidney_stone_prediction_dataset\n",
    "\n",
    "https://www.kaggle.com/competitions/playground-series-s3e12/data\n",
    "\n",
    "https://www.kaggle.com/competitions/playground-series-s3e12/discussion/400152"
   ]
  },
  {
   "cell_type": "code",
   "execution_count": null,
   "id": "75b6033b",
   "metadata": {},
   "outputs": [],
   "source": []
  }
 ],
 "metadata": {
  "kernelspec": {
   "display_name": "Python 3 (ipykernel)",
   "language": "python",
   "name": "python3"
  },
  "language_info": {
   "codemirror_mode": {
    "name": "ipython",
    "version": 3
   },
   "file_extension": ".py",
   "mimetype": "text/x-python",
   "name": "python",
   "nbconvert_exporter": "python",
   "pygments_lexer": "ipython3",
   "version": "3.10.9"
  }
 },
 "nbformat": 4,
 "nbformat_minor": 5
}
